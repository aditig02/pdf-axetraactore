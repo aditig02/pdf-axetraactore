{
 "cells": [
  {
   "cell_type": "code",
   "execution_count": 1,
   "metadata": {},
   "outputs": [
    {
     "name": "stdout",
     "output_type": "stream",
     "text": [
      "Requirement already satisfied: PyPDF2 in c:\\users\\aditi\\anaconda3\\lib\\site-packages (1.26.0)\n",
      "Note: you may need to restart the kernel to use updated packages.\n"
     ]
    }
   ],
   "source": [
    "pip install PyPDF2"
   ]
  },
  {
   "cell_type": "code",
   "execution_count": 1,
   "metadata": {},
   "outputs": [],
   "source": [
    "from PyPDF2 import PdfFileReader"
   ]
  },
  {
   "cell_type": "code",
   "execution_count": 91,
   "metadata": {},
   "outputs": [],
   "source": [
    "reader = PdfFileReader('IV-summary.pdf')"
   ]
  },
  {
   "cell_type": "code",
   "execution_count": 93,
   "metadata": {},
   "outputs": [
    {
     "data": {
      "text/plain": [
       "{'/CreationDate': \"D:20200228103205-05'00'\",\n",
       " '/ModDate': \"D:20200228103205-05'00'\"}"
      ]
     },
     "execution_count": 93,
     "metadata": {},
     "output_type": "execute_result"
    }
   ],
   "source": [
    "reader.documentInfo"
   ]
  },
  {
   "cell_type": "code",
   "execution_count": 94,
   "metadata": {},
   "outputs": [
    {
     "data": {
      "text/plain": [
       "1"
      ]
     },
     "execution_count": 94,
     "metadata": {},
     "output_type": "execute_result"
    }
   ],
   "source": [
    "reader.numPages"
   ]
  },
  {
   "cell_type": "code",
   "execution_count": 95,
   "metadata": {},
   "outputs": [
    {
     "data": {
      "text/plain": [
       "'\\nGEOGRAPHY\\nArea\\nTotal:  322,463 \\nsq\\nkm\\nLand:  318,003 \\nsq\\nkm\\nWater:  4,460 \\nsq\\nkm\\nClimate\\ntropical along coast, semiarid in far north; three \\nseasons \\n\\nwarm and dry (November to March), \\nhot and dry (March to May), hot and wet (June \\nto October)\\nNatural Resources\\npetroleum, natural gas, diamonds, manganese, \\niron ore, cobalt, bauxite, copper, gold, nickel, \\ntantalum, silica sand, clay, cocoa beans, \\ncoffee, palm oil, hydropower\\nGOVERNMENT\\nChief of State\\nPresident \\nAlassane\\nDramane\\nOUATTARA\\nHead of Government\\nPrime Minister \\nAmadou\\nGon\\nCOULIBALY\\nGovernment Type\\npresidential republic\\nCapital\\nYamoussoukro (legislative capital), Abidjan \\n(administrative capital)\\nLegislature\\nbicameral Parliament consists of the Senate \\n(99 seats) and the National Assembly (255 \\nseats)\\nJudiciary\\nSupreme Court (consists of the court \\npresident, 3 vice presidents for the Judicial, \\nAudit, and Administrative chambers, and 9 \\nassociate justices or magistrates)\\nAmbassador to US\\nAmbassador \\nMamadou\\nHAIDARA\\nUS Ambassador\\nAmbassador Richard K. BELL\\nPEOPLE & SOCIETY\\nPopulation\\n27.5 million (July 2020 est.)\\nPopulation Growth\\n2.3% (2020 est.)\\nEthnicity\\nAkan 28.9%, \\nVoltaique\\nor \\nGur 16.1%, Northern\\nMande 14.5%, \\nKru\\n8.5%, Southern Mande 6.9%, unspecified \\n0.9%, non\\n-\\nIvoirian 24.2% (2014 est.)\\nLanguage\\nFrench (official), 60 native dialects of which \\nDioula\\nis the most \\nwidely spoken\\nReligion\\nMuslim 42.9%, Catholic 17.2%, Evangelical 11.8%, Methodist \\n1.7%, other Christian 3.2%, animist 3.6%, other religion 0.5%, \\nnone 19.1% (2014 est.) \\nUrbanization\\nurban population: 51.7% of total population (2020)\\nrate of urbanization: 3.38% annual rate of change (2015\\n-\\n20 est.)\\nLiteracy\\n47.2% (2018)\\nECONOMY\\nEconomic Overview\\ngrowth rate has been among the highest in the world; heavily \\n\\nproducer and exporter of cocoa beans and a significant producer and \\nexporter of coffee and palm oil\\nGDP (Purchasing Power Parity)\\n$97.16 billion (2017 est.)\\nGDP per capita (Purchasing Power Parity)\\n$3,900 (2017 est.)\\nExports\\n$11.74 billion (2017 est.)\\npartners:  Netherlands 11.8%, US 7.9%, France 6.4%, Belgium \\n6.4%, Germany 5.8%, Burkina Faso 4.5%, India 4.4%, Mali 4.2% \\n(2017)\\nImports\\n$9.447 billion (2017 est.)\\npartners:  Nigeria 15%, France 13.4%, China 11.3%, US 4.3% (2017)\\nas of February 2020 \\n'"
      ]
     },
     "execution_count": 95,
     "metadata": {},
     "output_type": "execute_result"
    }
   ],
   "source": [
    "s = reader.getPage(0).extractText()\n",
    "s"
   ]
  },
  {
   "cell_type": "code",
   "execution_count": 79,
   "metadata": {},
   "outputs": [
    {
     "data": {
      "text/plain": [
       "(1232, 1240)"
      ]
     },
     "execution_count": 79,
     "metadata": {},
     "output_type": "execute_result"
    }
   ],
   "source": [
    "import re\n",
    "t2 = re.search(r'Religion',s).span()\n",
    "t2"
   ]
  },
  {
   "cell_type": "code",
   "execution_count": 80,
   "metadata": {},
   "outputs": [
    {
     "data": {
      "text/plain": [
       "'Religion\\nProtestant 74.8%'"
      ]
     },
     "execution_count": 80,
     "metadata": {},
     "output_type": "execute_result"
    }
   ],
   "source": [
    "sep2 = ''\n",
    "l2 = []\n",
    "for i in range(25):\n",
    "    s5 = l2.append(s[t2[0]+i])\n",
    "s6 = sep2.join(l2)\n",
    "s6"
   ]
  },
  {
   "cell_type": "code",
   "execution_count": 81,
   "metadata": {},
   "outputs": [
    {
     "data": {
      "text/plain": [
       "'Protestant'"
      ]
     },
     "execution_count": 81,
     "metadata": {},
     "output_type": "execute_result"
    }
   ],
   "source": [
    "religion = s6.split('\\n')[1].split(' ')[0]\n",
    "religion"
   ]
  },
  {
   "cell_type": "code",
   "execution_count": 82,
   "metadata": {},
   "outputs": [
    {
     "data": {
      "text/plain": [
       "(1965, 1972)"
      ]
     },
     "execution_count": 82,
     "metadata": {},
     "output_type": "execute_result"
    }
   ],
   "source": [
    "import re\n",
    "t1= re.search(r'Exports',s).span()\n",
    "t1"
   ]
  },
  {
   "cell_type": "code",
   "execution_count": 83,
   "metadata": {},
   "outputs": [
    {
     "data": {
      "text/plain": [
       "'Exports\\n$4.35 billion (2017 est.)\\npartners: \\nSouth'"
      ]
     },
     "execution_count": 83,
     "metadata": {},
     "output_type": "execute_result"
    }
   ],
   "source": [
    "sep1 = ''\n",
    "l1 = []\n",
    "for i in range(50):\n",
    "    s3 = l1.append(s[t1[0]+i])\n",
    "s4 = sep1.join(l1)\n",
    "s4"
   ]
  },
  {
   "cell_type": "code",
   "execution_count": 39,
   "metadata": {},
   "outputs": [
    {
     "data": {
      "text/plain": [
       "'224.6 billion '"
      ]
     },
     "execution_count": 39,
     "metadata": {},
     "output_type": "execute_result"
    }
   ],
   "source": [
    "exports = s4.split('$')[1].split(\"(\")[0].split(\"\\n\")\n",
    "''.join(exports)"
   ]
  },
  {
   "cell_type": "code",
   "execution_count": 84,
   "metadata": {},
   "outputs": [
    {
     "data": {
      "text/plain": [
       "'ZIMBABWE'"
      ]
     },
     "execution_count": 84,
     "metadata": {},
     "output_type": "execute_result"
    }
   ],
   "source": [
    "s.partition('\\n')[0]"
   ]
  },
  {
   "cell_type": "code",
   "execution_count": 85,
   "metadata": {},
   "outputs": [
    {
     "data": {
      "text/plain": [
       "(1913, 1921)"
      ]
     },
     "execution_count": 85,
     "metadata": {},
     "output_type": "execute_result"
    }
   ],
   "source": [
    "t = re.search(r'capita \\(',s).span()\n",
    "t"
   ]
  },
  {
   "cell_type": "code",
   "execution_count": 86,
   "metadata": {},
   "outputs": [
    {
     "data": {
      "text/plain": [
       "'capita (Purchasing Power Parity)\\n$2,300 (2017 est.'"
      ]
     },
     "execution_count": 86,
     "metadata": {},
     "output_type": "execute_result"
    }
   ],
   "source": [
    "sep = ''\n",
    "l = []\n",
    "for i in range(50):\n",
    "    s2 = l.append(s[t[0]+i])\n",
    "s1 = sep.join(l)\n",
    "s1"
   ]
  },
  {
   "cell_type": "code",
   "execution_count": 87,
   "metadata": {},
   "outputs": [
    {
     "data": {
      "text/plain": [
       "2300"
      ]
     },
     "execution_count": 87,
     "metadata": {},
     "output_type": "execute_result"
    }
   ],
   "source": [
    "gdp_per_cap = int(s1.split('$')[1].split(' ')[0].replace(',',''))\n",
    "gdp_per_cap"
   ]
  },
  {
   "cell_type": "code",
   "execution_count": 20,
   "metadata": {},
   "outputs": [
    {
     "data": {
      "text/plain": [
       "2017"
      ]
     },
     "execution_count": 20,
     "metadata": {},
     "output_type": "execute_result"
    }
   ],
   "source": [
    "gdp_per_cap_year = int(s1.split('$')[1].split(' ')[1].replace('(',''))\n",
    "gdp_per_cap_year"
   ]
  },
  {
   "cell_type": "markdown",
   "metadata": {},
   "source": [
    "NA code"
   ]
  },
  {
   "cell_type": "code",
   "execution_count": 48,
   "metadata": {},
   "outputs": [
    {
     "data": {
      "text/plain": [
       "(1988, 1995)"
      ]
     },
     "execution_count": 48,
     "metadata": {},
     "output_type": "execute_result"
    }
   ],
   "source": [
    "na = re.search(r'Parity\\)',s).span()\n",
    "na"
   ]
  },
  {
   "cell_type": "code",
   "execution_count": 51,
   "metadata": {},
   "outputs": [
    {
     "data": {
      "text/plain": [
       "'$'"
      ]
     },
     "execution_count": 51,
     "metadata": {},
     "output_type": "execute_result"
    }
   ],
   "source": [
    "s[na[0]+8]"
   ]
  },
  {
   "cell_type": "code",
   "execution_count": 21,
   "metadata": {},
   "outputs": [],
   "source": [
    "import pandas as pd\n",
    "df1 = pd.DataFrame()"
   ]
  },
  {
   "cell_type": "code",
   "execution_count": 88,
   "metadata": {},
   "outputs": [
    {
     "name": "stdout",
     "output_type": "stream",
     "text": [
      "['AF-summary.pdf', 'BE-summary.pdf', 'BX-summary.pdf', 'CV-summary.pdf', 'DO-summary.pdf', 'EK-summary.pdf', 'FR-summary.pdf', 'HA-summary.pdf', 'ID-summary.pdf', 'IN-summary.pdf', 'IV-summary.pdf', 'JA-summary.pdf', 'JE-summary.pdf', 'KE-summary.pdf', 'MI-summary.pdf', 'MX-summary.pdf', 'MZ-summary.pdf', 'PL-summary.pdf', 'SY-summary.pdf', 'SZ-summary.pdf', 'TH-summary.pdf', 'TO-summary.pdf', 'UK-summary.pdf', 'VT-summary.pdf', 'ZI-summary.pdf']\n",
      "25\n"
     ]
    }
   ],
   "source": [
    "import os\n",
    "path = 'C:/Users/Aditi/Documents/Fall 2020/QMST 5334/Projects/PDFs'\n",
    "arr = os.listdir(path)\n",
    "arr.remove('.ipynb_checkpoints')\n",
    "arr.remove('PDF extraction.ipynb')\n",
    "arr.remove('WI-summary.pdf')\n",
    "print(arr)\n",
    "print(len(arr))"
   ]
  },
  {
   "cell_type": "code",
   "execution_count": 102,
   "metadata": {},
   "outputs": [
    {
     "name": "stdout",
     "output_type": "stream",
     "text": [
      "1 AFGHANISTAN 2000 784 million  Muslim\n",
      "2 BELGIUM 46600 300.8 million  Roman\n",
      "3 BRUNEI 78900 5.885 billion  Muslim\n",
      "4 CABO VERDE 7000 189 million  Roman\n",
      "5 DOMINICA 11000 28 million  Roman\n",
      "6 EQUATORIAL GUINEA 37400 6.118 billion  nominally\n",
      "7 FRANCE 44100 549.9 billion  Christian\n",
      "8 HAITI 1800 980.2 million  Roman\n",
      "9 INDONESIA 12400 168.9 billion  Muslim\n",
      "10 INDIA 7200 304.1 billion  Hindu\n",
      "11  3900 11.74 billion  Muslim\n",
      "12 JAPAN 42900 688.9 billion  Shintoism\n",
      "13 JERSEY 56600 NA Protestant\n",
      "14 KENYA 3500 5.792 billion  Christian\n",
      "15 MALAWI 1200 1.42 billion  Protestant\n",
      "16 MEXICO 19900 409.8 billion  Roman\n",
      "17 MOZAMBIQUE 1300 4.73 billion  Roman\n",
      "18 POLAND 29600 224.6 billion  Catholic\n",
      "19 SYRIA 2900 1.85 billion  Muslim\n",
      "20 SWITZERLAND 67885 310.8 billion  Roman\n",
      "21 THAILAND 17900 235.1 billion  Buddhist\n",
      "22 TOGO 1700 1.05 billion  Christian\n",
      "23 UNITED KINGDOM 44300 441.2 billion  Christian\n",
      "24 HOLY SEE (VATICAN CITY) NA NA Roman\n",
      "25 ZIMBABWE 2300 4.35 billion  Protestant\n"
     ]
    }
   ],
   "source": [
    "#file_list = ['ZI-summary.pdf','WI-summary.pdf']\n",
    "rows = []\n",
    "count = 0\n",
    "for f in arr:\n",
    "    reader = PdfFileReader(f)\n",
    "    s = reader.getPage(0).extractText()\n",
    "    count+=1\n",
    "    #print(\"Okay\",count)\n",
    "    \n",
    "    #----------------------------------\n",
    "    t = re.search(r'capita \\(',s).span()\n",
    "    sep = ''\n",
    "    l = []\n",
    "    for i in range(50):\n",
    "        s2 = l.append(s[t[0]+i])\n",
    "    s1 = sep.join(l)\n",
    "    #-----------------------------------\n",
    "    \n",
    "    \n",
    "    country = s.partition('\\n')[0]\n",
    "    \n",
    "    \n",
    "    na_gdp = re.search(r'Parity\\)',s).span()\n",
    "    \n",
    "    if s[na_gdp[0]+8] == 'N':\n",
    "        gdp_per_cap = 'NA'\n",
    "    else:\n",
    "        gdp_per_cap = int(s1.split('$')[1].split(' ')[0].replace(',',''))\n",
    "        \n",
    "    #---------------------------------\n",
    "    t1= re.search(r'Exports',s).span()\n",
    "    sep1 = ''\n",
    "    l1 = []\n",
    "        \n",
    "    #na_exp = re.search(r'Exports',s).span()\n",
    "    \n",
    "    if s[t1[0]+8] == 'N':\n",
    "        exports = 'NA'\n",
    "    else:\n",
    "        for i in range(50):\n",
    "            s3 = l1.append(s[t1[0]+i])\n",
    "        s4 = sep1.join(l1)\n",
    "        exports = s4.split('$')[1].split(\"(\")[0].split(\"\\n\")\n",
    "        exports = ''.join(exports)\n",
    "    #--------------------------------\n",
    "    \n",
    "    t2 = re.search(r'Religion',s).span()\n",
    "    sep2 = ''\n",
    "    l2 = []\n",
    "    for i in range(25):\n",
    "        s5 = l2.append(s[t2[0]+i])\n",
    "    s6 = sep2.join(l2)\n",
    "    religion = s6.split('\\n')[1].split(' ')[0]\n",
    "    #-------------------------------------\n",
    "    \n",
    "    print(count,country,gdp_per_cap, exports, religion)                       #debugging\n",
    "\n",
    "    #gdp_per_cap_year = int(s1.split('$')[1].split(' ')[1].replace('(',''))\n",
    "    \n",
    "    rows.append([country, gdp_per_cap, exports, religion])"
   ]
  },
  {
   "cell_type": "code",
   "execution_count": 103,
   "metadata": {},
   "outputs": [
    {
     "data": {
      "text/html": [
       "<div>\n",
       "<style scoped>\n",
       "    .dataframe tbody tr th:only-of-type {\n",
       "        vertical-align: middle;\n",
       "    }\n",
       "\n",
       "    .dataframe tbody tr th {\n",
       "        vertical-align: top;\n",
       "    }\n",
       "\n",
       "    .dataframe thead th {\n",
       "        text-align: right;\n",
       "    }\n",
       "</style>\n",
       "<table border=\"1\" class=\"dataframe\">\n",
       "  <thead>\n",
       "    <tr style=\"text-align: right;\">\n",
       "      <th></th>\n",
       "      <th>Country</th>\n",
       "      <th>gdp_per_cap</th>\n",
       "      <th>Exports</th>\n",
       "      <th>Religion</th>\n",
       "    </tr>\n",
       "  </thead>\n",
       "  <tbody>\n",
       "    <tr>\n",
       "      <th>0</th>\n",
       "      <td>AFGHANISTAN</td>\n",
       "      <td>2000</td>\n",
       "      <td>784 million</td>\n",
       "      <td>Muslim</td>\n",
       "    </tr>\n",
       "    <tr>\n",
       "      <th>1</th>\n",
       "      <td>BELGIUM</td>\n",
       "      <td>46600</td>\n",
       "      <td>300.8 million</td>\n",
       "      <td>Roman</td>\n",
       "    </tr>\n",
       "    <tr>\n",
       "      <th>2</th>\n",
       "      <td>BRUNEI</td>\n",
       "      <td>78900</td>\n",
       "      <td>5.885 billion</td>\n",
       "      <td>Muslim</td>\n",
       "    </tr>\n",
       "    <tr>\n",
       "      <th>3</th>\n",
       "      <td>CABO VERDE</td>\n",
       "      <td>7000</td>\n",
       "      <td>189 million</td>\n",
       "      <td>Roman</td>\n",
       "    </tr>\n",
       "    <tr>\n",
       "      <th>4</th>\n",
       "      <td>DOMINICA</td>\n",
       "      <td>11000</td>\n",
       "      <td>28 million</td>\n",
       "      <td>Roman</td>\n",
       "    </tr>\n",
       "    <tr>\n",
       "      <th>5</th>\n",
       "      <td>EQUATORIAL GUINEA</td>\n",
       "      <td>37400</td>\n",
       "      <td>6.118 billion</td>\n",
       "      <td>nominally</td>\n",
       "    </tr>\n",
       "    <tr>\n",
       "      <th>6</th>\n",
       "      <td>FRANCE</td>\n",
       "      <td>44100</td>\n",
       "      <td>549.9 billion</td>\n",
       "      <td>Christian</td>\n",
       "    </tr>\n",
       "    <tr>\n",
       "      <th>7</th>\n",
       "      <td>HAITI</td>\n",
       "      <td>1800</td>\n",
       "      <td>980.2 million</td>\n",
       "      <td>Roman</td>\n",
       "    </tr>\n",
       "    <tr>\n",
       "      <th>8</th>\n",
       "      <td>INDONESIA</td>\n",
       "      <td>12400</td>\n",
       "      <td>168.9 billion</td>\n",
       "      <td>Muslim</td>\n",
       "    </tr>\n",
       "    <tr>\n",
       "      <th>9</th>\n",
       "      <td>INDIA</td>\n",
       "      <td>7200</td>\n",
       "      <td>304.1 billion</td>\n",
       "      <td>Hindu</td>\n",
       "    </tr>\n",
       "    <tr>\n",
       "      <th>10</th>\n",
       "      <td></td>\n",
       "      <td>3900</td>\n",
       "      <td>11.74 billion</td>\n",
       "      <td>Muslim</td>\n",
       "    </tr>\n",
       "    <tr>\n",
       "      <th>11</th>\n",
       "      <td>JAPAN</td>\n",
       "      <td>42900</td>\n",
       "      <td>688.9 billion</td>\n",
       "      <td>Shintoism</td>\n",
       "    </tr>\n",
       "    <tr>\n",
       "      <th>12</th>\n",
       "      <td>JERSEY</td>\n",
       "      <td>56600</td>\n",
       "      <td>NA</td>\n",
       "      <td>Protestant</td>\n",
       "    </tr>\n",
       "    <tr>\n",
       "      <th>13</th>\n",
       "      <td>KENYA</td>\n",
       "      <td>3500</td>\n",
       "      <td>5.792 billion</td>\n",
       "      <td>Christian</td>\n",
       "    </tr>\n",
       "    <tr>\n",
       "      <th>14</th>\n",
       "      <td>MALAWI</td>\n",
       "      <td>1200</td>\n",
       "      <td>1.42 billion</td>\n",
       "      <td>Protestant</td>\n",
       "    </tr>\n",
       "    <tr>\n",
       "      <th>15</th>\n",
       "      <td>MEXICO</td>\n",
       "      <td>19900</td>\n",
       "      <td>409.8 billion</td>\n",
       "      <td>Roman</td>\n",
       "    </tr>\n",
       "    <tr>\n",
       "      <th>16</th>\n",
       "      <td>MOZAMBIQUE</td>\n",
       "      <td>1300</td>\n",
       "      <td>4.73 billion</td>\n",
       "      <td>Roman</td>\n",
       "    </tr>\n",
       "    <tr>\n",
       "      <th>17</th>\n",
       "      <td>POLAND</td>\n",
       "      <td>29600</td>\n",
       "      <td>224.6 billion</td>\n",
       "      <td>Catholic</td>\n",
       "    </tr>\n",
       "    <tr>\n",
       "      <th>18</th>\n",
       "      <td>SYRIA</td>\n",
       "      <td>2900</td>\n",
       "      <td>1.85 billion</td>\n",
       "      <td>Muslim</td>\n",
       "    </tr>\n",
       "    <tr>\n",
       "      <th>19</th>\n",
       "      <td>SWITZERLAND</td>\n",
       "      <td>67885</td>\n",
       "      <td>310.8 billion</td>\n",
       "      <td>Roman</td>\n",
       "    </tr>\n",
       "    <tr>\n",
       "      <th>20</th>\n",
       "      <td>THAILAND</td>\n",
       "      <td>17900</td>\n",
       "      <td>235.1 billion</td>\n",
       "      <td>Buddhist</td>\n",
       "    </tr>\n",
       "    <tr>\n",
       "      <th>21</th>\n",
       "      <td>TOGO</td>\n",
       "      <td>1700</td>\n",
       "      <td>1.05 billion</td>\n",
       "      <td>Christian</td>\n",
       "    </tr>\n",
       "    <tr>\n",
       "      <th>22</th>\n",
       "      <td>UNITED KINGDOM</td>\n",
       "      <td>44300</td>\n",
       "      <td>441.2 billion</td>\n",
       "      <td>Christian</td>\n",
       "    </tr>\n",
       "    <tr>\n",
       "      <th>23</th>\n",
       "      <td>HOLY SEE (VATICAN CITY)</td>\n",
       "      <td>NA</td>\n",
       "      <td>NA</td>\n",
       "      <td>Roman</td>\n",
       "    </tr>\n",
       "    <tr>\n",
       "      <th>24</th>\n",
       "      <td>ZIMBABWE</td>\n",
       "      <td>2300</td>\n",
       "      <td>4.35 billion</td>\n",
       "      <td>Protestant</td>\n",
       "    </tr>\n",
       "  </tbody>\n",
       "</table>\n",
       "</div>"
      ],
      "text/plain": [
       "                    Country gdp_per_cap         Exports    Religion\n",
       "0               AFGHANISTAN        2000    784 million       Muslim\n",
       "1                   BELGIUM       46600  300.8 million        Roman\n",
       "2                    BRUNEI       78900  5.885 billion       Muslim\n",
       "3                CABO VERDE        7000    189 million        Roman\n",
       "4                  DOMINICA       11000     28 million        Roman\n",
       "5         EQUATORIAL GUINEA       37400  6.118 billion    nominally\n",
       "6                    FRANCE       44100  549.9 billion    Christian\n",
       "7                     HAITI        1800  980.2 million        Roman\n",
       "8                 INDONESIA       12400  168.9 billion       Muslim\n",
       "9                     INDIA        7200  304.1 billion        Hindu\n",
       "10                                 3900  11.74 billion       Muslim\n",
       "11                    JAPAN       42900  688.9 billion    Shintoism\n",
       "12                   JERSEY       56600              NA  Protestant\n",
       "13                    KENYA        3500  5.792 billion    Christian\n",
       "14                   MALAWI        1200   1.42 billion   Protestant\n",
       "15                   MEXICO       19900  409.8 billion        Roman\n",
       "16               MOZAMBIQUE        1300   4.73 billion        Roman\n",
       "17                   POLAND       29600  224.6 billion     Catholic\n",
       "18                    SYRIA        2900   1.85 billion       Muslim\n",
       "19              SWITZERLAND       67885  310.8 billion        Roman\n",
       "20                 THAILAND       17900  235.1 billion     Buddhist\n",
       "21                     TOGO        1700   1.05 billion    Christian\n",
       "22           UNITED KINGDOM       44300  441.2 billion    Christian\n",
       "23  HOLY SEE (VATICAN CITY)          NA              NA       Roman\n",
       "24                 ZIMBABWE        2300   4.35 billion   Protestant"
      ]
     },
     "execution_count": 103,
     "metadata": {},
     "output_type": "execute_result"
    }
   ],
   "source": [
    "df = pd.DataFrame(rows, columns=[\"Country\",\"gdp_per_cap\", \"Exports\",\"Religion\"])\n",
    "df"
   ]
  },
  {
   "cell_type": "code",
   "execution_count": 105,
   "metadata": {},
   "outputs": [],
   "source": [
    "df.to_csv('C:/Users/Aditi/Documents/Fall 2020/QMST 5334/Projects/Mydata.csv',index = False, header=True)"
   ]
  },
  {
   "cell_type": "code",
   "execution_count": null,
   "metadata": {},
   "outputs": [],
   "source": []
  }
 ],
 "metadata": {
  "kernelspec": {
   "display_name": "Python 3",
   "language": "python",
   "name": "python3"
  },
  "language_info": {
   "codemirror_mode": {
    "name": "ipython",
    "version": 3
   },
   "file_extension": ".py",
   "mimetype": "text/x-python",
   "name": "python",
   "nbconvert_exporter": "python",
   "pygments_lexer": "ipython3",
   "version": "3.7.3"
  }
 },
 "nbformat": 4,
 "nbformat_minor": 4
}
